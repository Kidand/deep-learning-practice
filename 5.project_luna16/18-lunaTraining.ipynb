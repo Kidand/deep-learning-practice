{
 "cells": [
  {
   "cell_type": "code",
   "execution_count": 1,
   "outputs": [],
   "source": [
    "import datetime\n",
    "from util.util import importstr\n",
    "from util.logconf import logging\n",
    "log = logging.getLogger('nb')"
   ],
   "metadata": {
    "collapsed": false
   }
  },
  {
   "cell_type": "code",
   "execution_count": 2,
   "outputs": [],
   "source": [
    "def run(app, *argv):\n",
    "    argv = list(argv)\n",
    "    argv.insert(0, '--num-workers=8')\n",
    "    log.info(\"Running: {}({!r}).main()\".format(app, argv))\n",
    "\n",
    "    app_cls = importstr(*app.rsplit('.', 1))\n",
    "    app_cls(argv).main()\n",
    "\n",
    "    log.info(\"Finished: {}.{!r}).main()\".format(app, argv))"
   ],
   "metadata": {
    "collapsed": false
   }
  },
  {
   "cell_type": "code",
   "execution_count": 3,
   "outputs": [],
   "source": [
    "# 1.用GPU训练 2.模型初始话 3.优化器定义"
   ],
   "metadata": {
    "collapsed": false
   }
  },
  {
   "cell_type": "code",
   "execution_count": 4,
   "outputs": [],
   "source": [
    "import os\n",
    "import shutil\n",
    "\n",
    "def cleanCache():\n",
    "    shutil.rmtree('data-unversioned/cache')\n",
    "    os.mkdir('data-unversioned/cache')"
   ],
   "metadata": {
    "collapsed": false
   }
  },
  {
   "cell_type": "code",
   "execution_count": 8,
   "outputs": [
    {
     "name": "stderr",
     "output_type": "stream",
     "text": [
      "2023-03-30 19:31:00,625 INFO     pid:31599 nb:004:run Running: code1.prepcache.LunaPrepCacheApp(['--num-workers=8']).main()\n",
      "2023-03-30 19:31:00,626 INFO     pid:31599 code1.prepcache:037:main Starting LunaPrepCacheApp, Namespace(batch_size=1024, num_workers=8)\n",
      "2023-03-30 19:31:03,647 INFO     pid:31599 code1.dsets:179:__init__ <code1.dsets.LunaDataset object at 0x104fd3130>: 551065 training samples\n",
      "2023-03-30 19:31:03,648 WARNING  pid:31599 util.util:217:enumerateWithEstimate Stuffing cache ----/539, starting\n",
      "2023-03-30 19:32:01,842 INFO     pid:31599 util.util:234:enumerateWithEstimate Stuffing cache   64/539, done at 2023-03-30 19:36:48, 0:05:20\n",
      "2023-03-30 19:34:08,114 INFO     pid:31599 util.util:234:enumerateWithEstimate Stuffing cache  256/539, done at 2023-03-30 19:37:10, 0:05:42\n",
      "2023-03-30 19:37:53,364 WARNING  pid:31599 util.util:247:enumerateWithEstimate Stuffing cache ----/539, done at 2023-03-30 19:37:53\n",
      "2023-03-30 19:37:53,395 INFO     pid:31599 nb:009:run Finished: code1.prepcache.LunaPrepCacheApp.['--num-workers=8']).main()\n"
     ]
    }
   ],
   "source": [
    "# cleanCache()\n",
    "run('code1.prepcache.LunaPrepCacheApp')"
   ],
   "metadata": {
    "collapsed": false
   }
  },
  {
   "cell_type": "code",
   "execution_count": null,
   "outputs": [],
   "source": [
    "# 测试一个epoch\n",
    "run('code1.training.LunaTrainingApp', '--epochs=1')"
   ],
   "metadata": {
    "collapsed": false
   }
  }
 ],
 "metadata": {
  "kernelspec": {
   "display_name": "Python 3",
   "language": "python",
   "name": "python3"
  },
  "language_info": {
   "codemirror_mode": {
    "name": "ipython",
    "version": 2
   },
   "file_extension": ".py",
   "mimetype": "text/x-python",
   "name": "python",
   "nbconvert_exporter": "python",
   "pygments_lexer": "ipython2",
   "version": "2.7.6"
  }
 },
 "nbformat": 4,
 "nbformat_minor": 0
}
