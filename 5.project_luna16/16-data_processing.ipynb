{
 "cells": [
  {
   "cell_type": "code",
   "execution_count": 1,
   "outputs": [
    {
     "ename": "NameError",
     "evalue": "name 'namedtuple' is not defined",
     "output_type": "error",
     "traceback": [
      "\u001B[1;31m---------------------------------------------------------------------------\u001B[0m",
      "\u001B[1;31mNameError\u001B[0m                                 Traceback (most recent call last)",
      "Cell \u001B[1;32mIn[1], line 1\u001B[0m\n\u001B[1;32m----> 1\u001B[0m CandidateInfoTuple \u001B[38;5;241m=\u001B[39m \u001B[43mnamedtuple\u001B[49m(\n\u001B[0;32m      2\u001B[0m     \u001B[38;5;124m'\u001B[39m\u001B[38;5;124mCandidateInfoTuple\u001B[39m\u001B[38;5;124m'\u001B[39m,\n\u001B[0;32m      3\u001B[0m     \u001B[38;5;124m'\u001B[39m\u001B[38;5;124misNodule_bool, diameter_mm, series_uid, center_xys\u001B[39m\u001B[38;5;124m'\u001B[39m,\n\u001B[0;32m      4\u001B[0m )\n",
      "\u001B[1;31mNameError\u001B[0m: name 'namedtuple' is not defined"
     ]
    }
   ],
   "source": [
    "CandidateInfoTuple = namedtuple(\n",
    "    'CandidateInfoTuple',\n",
    "    'isNodule_bool, diameter_mm, series_uid, center_xys',\n",
    ")"
   ],
   "metadata": {
    "collapsed": false,
    "pycharm": {
     "name": "#%%\n"
    }
   }
  },
  {
   "cell_type": "code",
   "execution_count": null,
   "outputs": [],
   "source": [
    "@functools.lru_cache(1)\n",
    "def getCandidateInfoList(requireOnDisk_bool = True):\n",
    "    mhd_list = glob.glob('D:/dataset/LUNA16DATASET/subset*/*.mhd')\n",
    "    presentOnDisk_set = {os.path.split(p)[-1][:-4] for p in mhd_list}\n"
   ],
   "metadata": {
    "collapsed": false,
    "pycharm": {
     "name": "#%%\n"
    }
   }
  },
  {
   "cell_type": "code",
   "execution_count": null,
   "outputs": [],
   "source": [
    "    diameter_dict = {}\n",
    "        with open('D:/dataset/LUNA16DATASET/annotations.csv', 'r') as f:\n",
    "            for row in list(csv.reader(f))[1:]:\n",
    "                series_uid = row[0]\n",
    "                annotationCenter_xyz = tuple([float(x) for x in row[1:4]])\n",
    "                annotationDiameter_mm = float(row[4])\n",
    "\n",
    "                diameter_dict.setdefault(series_uid, []).append((annotationCenter_xyz, annotationDiameter_mm))\n",
    "\n",
    "    # 两个文件存储的中心点坐标距离是否超过了结节直径的四分之一\n",
    "    candidateInfo_list = []\n",
    "        with open('D:/dataset/LUNA16DATASET/candidates.csv', 'r') as f:\n",
    "            for row in list(csv.reader(f))[1:]:\n",
    "                series_uid = row[0]\n",
    "\n",
    "                if series_uid not in presentOnDisk_set and requireOnDisk_bool:\n",
    "                    continue\n",
    "\n",
    "                isNodule_bool = bool(int(row[4]))\n",
    "                condidateCenter_xyz = tuple([float(x) for x in row[1:4]])\n",
    "\n",
    "                candidateDiameter_mm = 0.0\n",
    "                for annotation_tup in diameter_dict.get(series_uid, []):\n",
    "                    annotationCenter_xyz, annotationDiameter_mm = annotation_tup\n",
    "                    for i in range(3):\n",
    "                        delta_mm = abs(condidateCenter_xyz[i] - annotationCenter_xyz[i])\n",
    "                        if delta_mm > annotationDiameter_mm / 4:\n",
    "                            break\n",
    "                        else:\n",
    "                            candidateDiameter_mm = annotationDiameter_mm\n",
    "                            break\n",
    "                candidateInfo_list.append(CandidateInfoTuple(\n",
    "                    isNodule_bool,\n",
    "                    candidateDiameter_mm,\n",
    "                    series_uid,\n",
    "                    condidateCenter_xyz,\n",
    "                ))"
   ],
   "metadata": {
    "collapsed": false,
    "pycharm": {
     "name": "#%%\n"
    }
   }
  },
  {
   "cell_type": "code",
   "execution_count": null,
   "outputs": [],
   "source": [
    "    candidateInfo_list.sort(reverse=True)\n",
    "    return candidateInfo_list"
   ],
   "metadata": {
    "collapsed": false,
    "pycharm": {
     "name": "#%%\n"
    }
   }
  },
  {
   "cell_type": "code",
   "execution_count": null,
   "outputs": [],
   "source": [
    "# SimpleITK读取mhd文件\n",
    "import SimpleITK as sitk\n",
    "\n",
    "class Ct:\n",
    "    def __init__(self, series_uid):\n",
    "        mhd_path = glob.glob('D:/dataset/LUNA16DATASET/subset*/{}.mhd'.format(series_uid))[0]\n",
    "        ct_mhd = sitk.ReadImage(mhd_path)\n",
    "        ct_a = np.array(sitk.GetArrayFromImage(ct_mhd), dtype=np.float32)\n",
    "\n",
    "        ct_a.clip(-1000, 1000, ct_a)\n",
    "        self.series_uid = series_uid\n",
    "        self.hu_a = ct_a # hounsfield unit\n",
    "\n",
    "        self.origin_xyz = XyzTuple(*ct_mhd.GetOrigin())\n",
    "        self.vxSize_xyz = XyzTuple(*ct_mhd.GetSpacing())\n",
    "        self.direction_a = np.array(ct_mhd.GetDirection()).reshape(3, 3)"
   ],
   "metadata": {
    "collapsed": false,
    "pycharm": {
     "name": "#%%\n"
    }
   }
  },
  {
   "cell_type": "code",
   "execution_count": null,
   "outputs": [],
   "source": [
    "# 毫米为单位的坐标成为（X, Y, Z）坐标，以体素为单位的坐标成为（I, R, C）坐标\n",
    "IrcTuple = collections.namedtuple('IrcTuple', ['index', 'row', 'col'])\n",
    "XyzTuple = collections.namedtuple('XyzTuple', ['x', 'y', 'z'])\n",
    "\n",
    "def irc2xyz(coord_irc, origin_xyz, vxSize_xyz, direction_a):\n",
    "    cri_a = np.array(coord_irc)[::-1]\n",
    "    origin_a = np.array(origin_xyz)\n",
    "    vxSize_a = np.array(vxSize_xyz)\n",
    "    coords_xyz = (direction_a @ (cri_a * vxSize_a)) + origin_a\n",
    "    return XyzTuple(*coords_xyz)\n",
    "\n",
    "def xyz2irc(coord_xyz, origin_xyz, vxSize_xyz, direction_a):\n",
    "    origin_a = np.array(origin_xyz)\n",
    "    vxSize_a = np.array(vxSize_xyz)\n",
    "    coords_xyz = np.array(coord_xyz)\n",
    "    cri_a = ((coord_a - origin_a) @ np.linalg.inv(direction_a)) / vxSize_a\n",
    "    cri_a = np.round(cri_a)\n",
    "    return IrcTuple(int(cri_a[2]), int(cri_a[1]), int(cri_a[0]))\n"
   ],
   "metadata": {
    "collapsed": false,
    "pycharm": {
     "name": "#%%\n"
    }
   }
  },
  {
   "cell_type": "code",
   "execution_count": null,
   "outputs": [],
   "source": [
    "def getRawCandidate(self, center_xyz, width_irc):\n",
    "    center_irc = xyz2irc(center_xyz, self.origin_xyz, self.vxSize_xyz, self.direction_a)\n",
    "    slice_list = []\n",
    "    for axis, center_val in enumerate(center_irc):\n",
    "        start_ndx = int(round(center_val - width_irc[axis] / 2))\n",
    "        end_ndx = int(start_ndx + width_irc[axis])\n",
    "\n",
    "        assert center_val >= 0 and center_val < self.hu_a.shape[axis], repr([self.series_uid, center_xyz, self.center_irc, self.origin_xyz, self.vxSize_xyz, center_irc, axis])\n",
    "\n",
    "        if start_ndx < 0:\n",
    "            start_ndx = 0\n",
    "            end_ndx = int(width_irc[axis])\n",
    "        if end_ndx > self.hu_a.shape[axis]:\n",
    "            end_ndx = self.hu_a.shape[axis]\n",
    "            start_ndx = int(self.hu_a.shape[axis] - width_irc[axis])\n",
    "        slice_list.append(slice(start_ndx, end_ndx))\n",
    "\n",
    "    ct_chunk = self.hu_a[tuple(slice_list)]\n",
    "\n",
    "    return ct_chunk, center_irc"
   ],
   "metadata": {
    "collapsed": false,
    "pycharm": {
     "name": "#%%\n"
    }
   }
  },
  {
   "cell_type": "code",
   "execution_count": null,
   "outputs": [],
   "source": [
    "# 编写Dataset方法\n",
    "@functools.lru_cache(1, typed=True)\n",
    "def getCt(series_uid):\n",
    "    return Ct(series_uid)\n",
    "\n",
    "@raw_cache.memoize(typed=True)\n",
    "def getCtRawCandidate(series_uid, center_xyz, width_irc):\n",
    "    ct = getCt(series_uid)\n",
    "    ct_chunk, center_irc = ct.getRawCandidate(center_xyz, width_irc)\n",
    "    return ct_chunk, center_irc"
   ],
   "metadata": {
    "collapsed": false,
    "pycharm": {
     "name": "#%%\n"
    }
   }
  },
  {
   "cell_type": "code",
   "execution_count": null,
   "outputs": [],
   "source": [
    "def __len__(self):\n",
    "    return len(self.candidateInfo_list)\n",
    "\n",
    "def __getitem__(self, ndx):\n",
    "    candidateInfo_tup = self.candidateInfo_list[ndx]\n",
    "\n",
    "    width_irc = (32, 48, 48)\n",
    "\n",
    "    candidate_a, center_irc = getCtRawCandidate(candidateInfo_tup.series_uid, candidateInfo.center_xyz, width_irc)\n",
    "    candidate_t = torch.from_numpy(candidate_a)\n",
    "    candidate_t = candidate_t.to(torch.float32)\n",
    "    candidate_t = candidate_t.unsqueeze(0)\n",
    "\n",
    "    pos_t = torch.tensor([not candidateInfo_tup.isNodule_bool, candidateInfo_tup.isNodule_bool], dtype=torch.long)\n",
    "\n",
    "    return (candidate_t, pos_t, candidateInfo_tup.series_uid, torch.tensor(center_irc))"
   ],
   "metadata": {
    "collapsed": false,
    "pycharm": {
     "name": "#%%\n"
    }
   }
  },
  {
   "cell_type": "code",
   "execution_count": null,
   "outputs": [],
   "source": [
    "# 分割训练集和验证集\n",
    "class LunaDataset():\n",
    "    def __init__(self, val_stride=0, isValSet_bool=None, series_uid=None):\n",
    "        self.candidateInfo_list = copy.copy(getCandidateInfoList())\n",
    "        if series_uid:\n",
    "            self.candidateInfo_list = [x for x in self.candidateInfo_list if x.series_uid == series_uid]\n",
    "\n",
    "        if isValSet_bool:\n",
    "            assert val_stride > 0, val_stride\n",
    "            self.candidateInfo_list = self.candidateInfo_list[::val_stride]\n",
    "            assert self.candidateInfo_list\n",
    "        elif val_stride > 0:\n",
    "            del self.candidateInfo_list[::val_stride]\n",
    "            assert self.candidateInfo_list\n",
    "\n",
    "        log.info(\"{!r}: {} {} samples\".format(self, len(self.candidateInfo_list), \"validation\" if isValSet_bool else \"training\"))"
   ],
   "metadata": {
    "collapsed": false,
    "pycharm": {
     "name": "#%%\n"
    }
   }
  }
 ],
 "metadata": {
  "kernelspec": {
   "display_name": "Python 3",
   "language": "python",
   "name": "python3"
  },
  "language_info": {
   "codemirror_mode": {
    "name": "ipython",
    "version": 2
   },
   "file_extension": ".py",
   "mimetype": "text/x-python",
   "name": "python",
   "nbconvert_exporter": "python",
   "pygments_lexer": "ipython2",
   "version": "2.7.6"
  }
 },
 "nbformat": 4,
 "nbformat_minor": 0
}