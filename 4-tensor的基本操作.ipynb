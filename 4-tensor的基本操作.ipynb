{
 "cells": [
  {
   "cell_type": "markdown",
   "id": "3b14895a",
   "metadata": {},
   "source": [
    "# 基本操作\n",
    "+ 拼接\n",
    "+ 切分\n",
    "+ 索引\n",
    "+ 变换"
   ]
  },
  {
   "cell_type": "code",
   "execution_count": 1,
   "id": "f6eaa6d4",
   "metadata": {},
   "outputs": [],
   "source": [
    "import torch"
   ]
  },
  {
   "cell_type": "markdown",
   "id": "21d1358e",
   "metadata": {},
   "source": [
    "## 拼接"
   ]
  },
  {
   "cell_type": "code",
   "execution_count": 2,
   "id": "963b8413",
   "metadata": {},
   "outputs": [
    {
     "name": "stdout",
     "output_type": "stream",
     "text": [
      "tensor([[ 0.5368, -0.4124,  0.5999,  0.4182],\n",
      "        [ 0.2440, -0.2085,  0.5307, -2.6946],\n",
      "        [-0.4502, -0.5342,  0.9499,  0.8953]])\n",
      "tensor([[ 2.0324,  0.7434,  0.8093,  0.5623],\n",
      "        [-0.1657, -1.7298,  0.4734, -0.9139],\n",
      "        [ 0.3292,  1.3822,  0.4731, -0.9723]])\n"
     ]
    }
   ],
   "source": [
    "# 两种拼接方法 cat() 和 stack()。cat()不会扩张张量的维度，stack()会扩张张量的维度\n",
    "a = torch.normal(0,1,(3,4))\n",
    "b = torch.normal(0,1,(3,4))\n",
    "print(a)\n",
    "print(b)"
   ]
  },
  {
   "cell_type": "code",
   "execution_count": 3,
   "id": "8834a079",
   "metadata": {},
   "outputs": [
    {
     "data": {
      "text/plain": [
       "tensor([[ 0.5368, -0.4124,  0.5999,  0.4182],\n",
       "        [ 0.2440, -0.2085,  0.5307, -2.6946],\n",
       "        [-0.4502, -0.5342,  0.9499,  0.8953],\n",
       "        [ 2.0324,  0.7434,  0.8093,  0.5623],\n",
       "        [-0.1657, -1.7298,  0.4734, -0.9139],\n",
       "        [ 0.3292,  1.3822,  0.4731, -0.9723]])"
      ]
     },
     "execution_count": 3,
     "metadata": {},
     "output_type": "execute_result"
    }
   ],
   "source": [
    "cat_ab1 = torch.cat([a,b], dim = 0)\n",
    "cat_ab1"
   ]
  },
  {
   "cell_type": "code",
   "execution_count": 4,
   "id": "2fd19b2e",
   "metadata": {
    "scrolled": true
   },
   "outputs": [
    {
     "data": {
      "text/plain": [
       "tensor([[[ 0.5368, -0.4124,  0.5999,  0.4182],\n",
       "         [ 0.2440, -0.2085,  0.5307, -2.6946],\n",
       "         [-0.4502, -0.5342,  0.9499,  0.8953]],\n",
       "\n",
       "        [[ 2.0324,  0.7434,  0.8093,  0.5623],\n",
       "         [-0.1657, -1.7298,  0.4734, -0.9139],\n",
       "         [ 0.3292,  1.3822,  0.4731, -0.9723]]])"
      ]
     },
     "execution_count": 4,
     "metadata": {},
     "output_type": "execute_result"
    }
   ],
   "source": [
    "cat_ab2 = torch.stack([a,b], dim = 0)\n",
    "cat_ab2"
   ]
  },
  {
   "cell_type": "code",
   "execution_count": 5,
   "id": "d0e37ccf",
   "metadata": {},
   "outputs": [
    {
     "data": {
      "text/plain": [
       "tensor([[[ 0.5368, -0.4124,  0.5999,  0.4182],\n",
       "         [ 2.0324,  0.7434,  0.8093,  0.5623]],\n",
       "\n",
       "        [[ 0.2440, -0.2085,  0.5307, -2.6946],\n",
       "         [-0.1657, -1.7298,  0.4734, -0.9139]],\n",
       "\n",
       "        [[-0.4502, -0.5342,  0.9499,  0.8953],\n",
       "         [ 0.3292,  1.3822,  0.4731, -0.9723]]])"
      ]
     },
     "execution_count": 5,
     "metadata": {},
     "output_type": "execute_result"
    }
   ],
   "source": [
    "cat_ab2 = torch.stack([a,b], dim = 1)\n",
    "cat_ab2"
   ]
  },
  {
   "cell_type": "code",
   "execution_count": 6,
   "id": "7dd7dc1a",
   "metadata": {},
   "outputs": [
    {
     "data": {
      "text/plain": [
       "tensor([[[ 0.5368,  2.0324],\n",
       "         [-0.4124,  0.7434],\n",
       "         [ 0.5999,  0.8093],\n",
       "         [ 0.4182,  0.5623]],\n",
       "\n",
       "        [[ 0.2440, -0.1657],\n",
       "         [-0.2085, -1.7298],\n",
       "         [ 0.5307,  0.4734],\n",
       "         [-2.6946, -0.9139]],\n",
       "\n",
       "        [[-0.4502,  0.3292],\n",
       "         [-0.5342,  1.3822],\n",
       "         [ 0.9499,  0.4731],\n",
       "         [ 0.8953, -0.9723]]])"
      ]
     },
     "execution_count": 6,
     "metadata": {},
     "output_type": "execute_result"
    }
   ],
   "source": [
    "cat_ab3 = torch.stack([a,b], dim = 2)\n",
    "cat_ab3"
   ]
  },
  {
   "cell_type": "markdown",
   "id": "eb75ad98",
   "metadata": {},
   "source": [
    "## 切分"
   ]
  },
  {
   "cell_type": "code",
   "execution_count": 7,
   "id": "924fd51d",
   "metadata": {},
   "outputs": [
    {
     "data": {
      "text/plain": [
       "tensor([[1., 1., 1., 1., 1., 1., 1.],\n",
       "        [1., 1., 1., 1., 1., 1., 1.],\n",
       "        [1., 1., 1., 1., 1., 1., 1.]])"
      ]
     },
     "execution_count": 7,
     "metadata": {},
     "output_type": "execute_result"
    }
   ],
   "source": [
    "# chunk(input, chunks, dim = 0)按照指定的维度进行平均切分\n",
    "# split(tensor, split_size_or_sections, dim = 0)可以指定切分的长度\n",
    "a = torch.ones((3, 7))\n",
    "a"
   ]
  },
  {
   "cell_type": "code",
   "execution_count": 8,
   "id": "4e20b6b5",
   "metadata": {},
   "outputs": [
    {
     "data": {
      "text/plain": [
       "(tensor([[1., 1., 1.],\n",
       "         [1., 1., 1.],\n",
       "         [1., 1., 1.]]),\n",
       " tensor([[1., 1., 1.],\n",
       "         [1., 1., 1.],\n",
       "         [1., 1., 1.]]),\n",
       " tensor([[1.],\n",
       "         [1.],\n",
       "         [1.]]))"
      ]
     },
     "execution_count": 8,
     "metadata": {},
     "output_type": "execute_result"
    }
   ],
   "source": [
    "chunked_a = torch.chunk(a, 3, 1)\n",
    "chunked_a"
   ]
  },
  {
   "cell_type": "code",
   "execution_count": 9,
   "id": "247174e0",
   "metadata": {},
   "outputs": [
    {
     "data": {
      "text/plain": [
       "(tensor([[1., 1., 1., 1.],\n",
       "         [1., 1., 1., 1.],\n",
       "         [1., 1., 1., 1.]]),\n",
       " tensor([[1., 1., 1.],\n",
       "         [1., 1., 1.],\n",
       "         [1., 1., 1.]]))"
      ]
     },
     "execution_count": 9,
     "metadata": {},
     "output_type": "execute_result"
    }
   ],
   "source": [
    "splited_a1 = torch.split(a, 4, 1)\n",
    "splited_a1"
   ]
  },
  {
   "cell_type": "code",
   "execution_count": 10,
   "id": "b35a6689",
   "metadata": {},
   "outputs": [
    {
     "data": {
      "text/plain": [
       "(tensor([[1., 1.],\n",
       "         [1., 1.],\n",
       "         [1., 1.]]),\n",
       " tensor([[1., 1., 1., 1.],\n",
       "         [1., 1., 1., 1.],\n",
       "         [1., 1., 1., 1.]]),\n",
       " tensor([[1.],\n",
       "         [1.],\n",
       "         [1.]]))"
      ]
     },
     "execution_count": 10,
     "metadata": {},
     "output_type": "execute_result"
    }
   ],
   "source": [
    "splited_a2 = torch.split(a, [2,4,1], 1)\n",
    "splited_a2"
   ]
  },
  {
   "cell_type": "markdown",
   "id": "c52a9ad7",
   "metadata": {},
   "source": [
    "## 索引"
   ]
  },
  {
   "cell_type": "code",
   "execution_count": 11,
   "id": "28c0c20f",
   "metadata": {
    "scrolled": true
   },
   "outputs": [
    {
     "data": {
      "text/plain": [
       "tensor([[4., 1.],\n",
       "        [5., 3.],\n",
       "        [2., 1.]])"
      ]
     },
     "execution_count": 11,
     "metadata": {},
     "output_type": "execute_result"
    }
   ],
   "source": [
    "# 使用范围索引\n",
    "points = torch.tensor([[4.0, 1.0], [5.0, 3.0], [2.0, 1.0]])\n",
    "points"
   ]
  },
  {
   "cell_type": "code",
   "execution_count": 12,
   "id": "1a59288a",
   "metadata": {},
   "outputs": [
    {
     "data": {
      "text/plain": [
       "tensor([[5., 3.],\n",
       "        [2., 1.]])"
      ]
     },
     "execution_count": 12,
     "metadata": {},
     "output_type": "execute_result"
    }
   ],
   "source": [
    "points[1:]"
   ]
  },
  {
   "cell_type": "code",
   "execution_count": 13,
   "id": "5906a30f",
   "metadata": {},
   "outputs": [
    {
     "data": {
      "text/plain": [
       "tensor([[5., 3.],\n",
       "        [2., 1.]])"
      ]
     },
     "execution_count": 13,
     "metadata": {},
     "output_type": "execute_result"
    }
   ],
   "source": [
    "points[1:,:]"
   ]
  },
  {
   "cell_type": "code",
   "execution_count": 14,
   "id": "225cdf58",
   "metadata": {},
   "outputs": [
    {
     "data": {
      "text/plain": [
       "tensor([5., 2.])"
      ]
     },
     "execution_count": 14,
     "metadata": {},
     "output_type": "execute_result"
    }
   ],
   "source": [
    "points[1:,0]"
   ]
  },
  {
   "cell_type": "code",
   "execution_count": 15,
   "id": "213b00e9",
   "metadata": {},
   "outputs": [
    {
     "data": {
      "text/plain": [
       "tensor([[[4., 1.],\n",
       "         [5., 3.],\n",
       "         [2., 1.]]])"
      ]
     },
     "execution_count": 15,
     "metadata": {},
     "output_type": "execute_result"
    }
   ],
   "source": [
    "# 维度提升一维，类似unsqueeze()\n",
    "points[None]"
   ]
  },
  {
   "cell_type": "code",
   "execution_count": 16,
   "id": "22d14b7e",
   "metadata": {},
   "outputs": [
    {
     "data": {
      "text/plain": [
       "tensor([[4., 1.],\n",
       "        [2., 1.]])"
      ]
     },
     "execution_count": 16,
     "metadata": {},
     "output_type": "execute_result"
    }
   ],
   "source": [
    "# torch.index_select(input, dim, index, out = None)在按照index序号，在指定的维度上索引\n",
    "# torch.masked_select(input, mask, out = None)通过mask中为True的元素进行索引。通常这个方法时用来筛选数据。返回一维张量。\n",
    "idx = torch.tensor([0, 2])\n",
    "res = torch.index_select(points, dim = 0, index=idx)\n",
    "res"
   ]
  },
  {
   "cell_type": "code",
   "execution_count": 17,
   "id": "d2477fd4",
   "metadata": {},
   "outputs": [
    {
     "data": {
      "text/plain": [
       "tensor([4., 5., 3.])"
      ]
     },
     "execution_count": 17,
     "metadata": {},
     "output_type": "execute_result"
    }
   ],
   "source": [
    "# tensor.ge() 大于等于\n",
    "mask = points.ge(3)\n",
    "res = torch.masked_select(points, mask)\n",
    "res"
   ]
  },
  {
   "cell_type": "markdown",
   "id": "cc991940",
   "metadata": {},
   "source": [
    "## 变换"
   ]
  },
  {
   "cell_type": "code",
   "execution_count": 18,
   "id": "989a8894",
   "metadata": {},
   "outputs": [
    {
     "data": {
      "text/plain": [
       "tensor([[4., 1., 5.],\n",
       "        [3., 2., 1.]])"
      ]
     },
     "execution_count": 18,
     "metadata": {},
     "output_type": "execute_result"
    }
   ],
   "source": [
    "# torch.reshape(input, shape) 改变张量的形状，新张量与旧张量共享内存\n",
    "new_points = torch.reshape(points, [2, 3])\n",
    "new_points"
   ]
  },
  {
   "cell_type": "code",
   "execution_count": 19,
   "id": "2aab8359",
   "metadata": {},
   "outputs": [
    {
     "data": {
      "text/plain": [
       "tensor([[4., 5., 2.],\n",
       "        [1., 3., 1.]])"
      ]
     },
     "execution_count": 19,
     "metadata": {},
     "output_type": "execute_result"
    }
   ],
   "source": [
    "# torch.transpose(input, dim0, dim1) 交换张量的两个维度，交换也是共享内存\n",
    "new_points = torch.transpose(points, 0, 1)\n",
    "new_points"
   ]
  },
  {
   "cell_type": "code",
   "execution_count": 20,
   "id": "b535e791",
   "metadata": {},
   "outputs": [
    {
     "data": {
      "text/plain": [
       "tensor([[4., 5., 2.],\n",
       "        [1., 3., 1.]])"
      ]
     },
     "execution_count": 20,
     "metadata": {},
     "output_type": "execute_result"
    }
   ],
   "source": [
    "# torch.t(input)针对二维张量的转置而创建的，等价于 torch.transpose(input, 0, 1)\n",
    "new_points = torch.t(points)\n",
    "new_points"
   ]
  },
  {
   "cell_type": "code",
   "execution_count": 21,
   "id": "20bac915",
   "metadata": {
    "scrolled": true
   },
   "outputs": [
    {
     "data": {
      "text/plain": [
       "tensor([[[[1., 1., 1., 1., 1.]],\n",
       "\n",
       "         [[1., 1., 1., 1., 1.]]]])"
      ]
     },
     "execution_count": 21,
     "metadata": {},
     "output_type": "execute_result"
    }
   ],
   "source": [
    "points = torch.ones(1,2,1,5)\n",
    "points"
   ]
  },
  {
   "cell_type": "code",
   "execution_count": 22,
   "id": "06eb6731",
   "metadata": {},
   "outputs": [
    {
     "data": {
      "text/plain": [
       "tensor([[1., 1., 1., 1., 1.],\n",
       "        [1., 1., 1., 1., 1.]])"
      ]
     },
     "execution_count": 22,
     "metadata": {},
     "output_type": "execute_result"
    }
   ],
   "source": [
    "# torch.squeeze(input, dim = None, out = None)压缩张量中长度为1的维度\n",
    "new_points = torch.squeeze(points)\n",
    "new_points"
   ]
  },
  {
   "cell_type": "code",
   "execution_count": 23,
   "id": "1b723161",
   "metadata": {},
   "outputs": [
    {
     "data": {
      "text/plain": [
       "torch.Size([1, 2, 1, 5, 1])"
      ]
     },
     "execution_count": 23,
     "metadata": {},
     "output_type": "execute_result"
    }
   ],
   "source": [
    "# torch.unsqueeze(input, dim, out = None)依据dim扩展维度，扩展长度为1\n",
    "new_points = torch.unsqueeze(points, -1)\n",
    "new_points.size()"
   ]
  },
  {
   "cell_type": "code",
   "execution_count": null,
   "id": "4bbc3011",
   "metadata": {},
   "outputs": [],
   "source": []
  }
 ],
 "metadata": {
  "kernelspec": {
   "display_name": "Python 3 (ipykernel)",
   "language": "python",
   "name": "python3"
  },
  "language_info": {
   "codemirror_mode": {
    "name": "ipython",
    "version": 3
   },
   "file_extension": ".py",
   "mimetype": "text/x-python",
   "name": "python",
   "nbconvert_exporter": "python",
   "pygments_lexer": "ipython3",
   "version": "3.9.12"
  }
 },
 "nbformat": 4,
 "nbformat_minor": 5
}
