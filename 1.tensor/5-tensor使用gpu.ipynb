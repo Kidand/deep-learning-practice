{
 "cells": [
  {
   "cell_type": "code",
   "execution_count": 1,
   "id": "762d6887",
   "metadata": {},
   "outputs": [],
   "source": [
    "import torch"
   ]
  },
  {
   "cell_type": "code",
   "execution_count": 2,
   "id": "d7994aa3",
   "metadata": {},
   "outputs": [],
   "source": [
    "# 创建时指定设备\n",
    "points_gpu = torch.tensor([[4, 1], [5, 3], [2, 1]], device = 'cuda')"
   ]
  },
  {
   "cell_type": "code",
   "execution_count": 3,
   "id": "70a25a56",
   "metadata": {},
   "outputs": [],
   "source": [
    "# 移动到指定设备\n",
    "points = torch.tensor([[4, 1], [5, 3], [2, 1]])\n",
    "points_gpu1 = points.to(device = 'cuda')\n",
    "points_gpu2 = points.to(device = 'cuda:0')"
   ]
  },
  {
   "cell_type": "code",
   "execution_count": 4,
   "id": "ccc69ec0",
   "metadata": {},
   "outputs": [],
   "source": [
    "# 传回cpu\n",
    "points_cpu = points_gpu.to(device = 'cpu')"
   ]
  },
  {
   "cell_type": "code",
   "execution_count": 5,
   "id": "61469f7e",
   "metadata": {},
   "outputs": [],
   "source": [
    "# 简写（不推荐）\n",
    "points_gpu = points.cuda()\n",
    "points_gpu = points.cuda(0)\n",
    "points_cou = points_gpu.cpu()"
   ]
  },
  {
   "cell_type": "code",
   "execution_count": null,
   "id": "0c31acb0",
   "metadata": {},
   "outputs": [],
   "source": []
  }
 ],
 "metadata": {
  "kernelspec": {
   "display_name": "Python 3 (ipykernel)",
   "language": "python",
   "name": "python3"
  },
  "language_info": {
   "codemirror_mode": {
    "name": "ipython",
    "version": 3
   },
   "file_extension": ".py",
   "mimetype": "text/x-python",
   "name": "python",
   "nbconvert_exporter": "python",
   "pygments_lexer": "ipython3",
   "version": "3.9.12"
  }
 },
 "nbformat": 4,
 "nbformat_minor": 5
}
